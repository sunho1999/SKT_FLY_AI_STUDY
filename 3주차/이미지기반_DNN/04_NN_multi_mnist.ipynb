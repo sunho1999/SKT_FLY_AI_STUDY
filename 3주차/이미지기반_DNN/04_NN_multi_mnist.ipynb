{
  "nbformat": 4,
  "nbformat_minor": 0,
  "metadata": {
    "colab": {
      "provenance": []
    },
    "kernelspec": {
      "name": "python3",
      "display_name": "Python 3"
    },
    "language_info": {
      "name": "python"
    }
  },
  "cells": [
    {
      "cell_type": "markdown",
      "source": [
        "# 뉴럴네트워크 다중분류\n",
        "- mnist dataset"
      ],
      "metadata": {
        "id": "m-UfJvvoh4Mp"
      }
    },
    {
      "cell_type": "code",
      "execution_count": 1,
      "metadata": {
        "id": "2HtF8sa-hhxr"
      },
      "outputs": [],
      "source": [
        "import numpy as np\n",
        "import pandas as pd\n",
        "import matplotlib.pyplot as plt\n",
        "import tensorflow as tlf\n",
        "from tensorflow import keras"
      ]
    },
    {
      "cell_type": "markdown",
      "source": [
        "## 1. 데이터 준비"
      ],
      "metadata": {
        "id": "oXbSJNRxiN4q"
      }
    },
    {
      "cell_type": "code",
      "source": [
        "from keras.datasets import mnist\n",
        "\n",
        "(X_train ,y_train), (X_test, y_test) = mnist.load_data()\n",
        "\n",
        "print(X_train.shape,y_train.shape)\n",
        "print(X_test.shape, y_test.shape) # color였으면 x,a,b,3이 나와야하지만 x,a,b,1인 형태라 흑백인 이미지인 것을 인지할 수 있음\n",
        "# tensorflow는 높이, 너비, 채널 형식임\n",
        "# torch는 채널, 높이, 너비 임"
      ],
      "metadata": {
        "colab": {
          "base_uri": "https://localhost:8080/"
        },
        "id": "SWHAGdggi2zo",
        "outputId": "b8d16a01-b968-48c7-f5dc-8c5978cfbbb6"
      },
      "execution_count": 2,
      "outputs": [
        {
          "output_type": "stream",
          "name": "stdout",
          "text": [
            "(60000, 28, 28) (60000,)\n",
            "(10000, 28, 28) (10000,)\n"
          ]
        }
      ]
    },
    {
      "cell_type": "code",
      "source": [
        "pd.Series(y_train).value_counts().sort_index()"
      ],
      "metadata": {
        "colab": {
          "base_uri": "https://localhost:8080/"
        },
        "id": "ZZxr5rONkciA",
        "outputId": "9a84daff-2408-458e-f66a-94bbf9a2003c"
      },
      "execution_count": 3,
      "outputs": [
        {
          "output_type": "execute_result",
          "data": {
            "text/plain": [
              "0    5923\n",
              "1    6742\n",
              "2    5958\n",
              "3    6131\n",
              "4    5842\n",
              "5    5421\n",
              "6    5918\n",
              "7    6265\n",
              "8    5851\n",
              "9    5949\n",
              "dtype: int64"
            ]
          },
          "metadata": {},
          "execution_count": 3
        }
      ]
    },
    {
      "cell_type": "code",
      "source": [
        "samples = np.random.randint(60000,size = 9)\n",
        "samples"
      ],
      "metadata": {
        "colab": {
          "base_uri": "https://localhost:8080/"
        },
        "id": "rT6pwiRZktdF",
        "outputId": "5eb0a7e7-2b16-48c3-a85a-a5219e3047b2"
      },
      "execution_count": 4,
      "outputs": [
        {
          "output_type": "execute_result",
          "data": {
            "text/plain": [
              "array([26070, 45760, 10352, 46161,    17, 25240, 57850,  2381, 36596])"
            ]
          },
          "metadata": {},
          "execution_count": 4
        }
      ]
    },
    {
      "cell_type": "code",
      "source": [
        "plt.figure(figsize = (8,8))\n",
        "for i, idx in enumerate(samples):\n",
        "  plt.subplot(3,3,1+i)\n",
        "  plt.imshow(X_train[idx],cmap = 'gray') #colormap\n",
        "  plt.axis('off')\n",
        "  plt.title(y_train[idx])\n",
        "plt.show()"
      ],
      "metadata": {
        "colab": {
          "base_uri": "https://localhost:8080/",
          "height": 675
        },
        "id": "59-ns-lolDT-",
        "outputId": "ca08e012-6c1b-4b6e-ff5e-17cf40964969"
      },
      "execution_count": 5,
      "outputs": [
        {
          "output_type": "display_data",
          "data": {
            "text/plain": [
              "<Figure size 800x800 with 9 Axes>"
            ],
            "image/png": "[encoded data removed]"
          },
          "metadata": {}
        }
      ]
    },
    {
      "cell_type": "markdown",
      "source": [
        "### 검증 데이터 준비"
      ],
      "metadata": {
        "id": "y5IbfycLmyW_"
      }
    },
    {
      "cell_type": "code",
      "source": [
        "from sklearn.model_selection import train_test_split\n",
        "\n",
        "X_train,X_val,y_train,y_val = train_test_split(X_train,y_train,test_size = 0.2, random_state = 42)\n",
        "\n",
        "X_train.shape, X_val.shape, y_train.shape, y_val.shape"
      ],
      "metadata": {
        "colab": {
          "base_uri": "https://localhost:8080/"
        },
        "id": "zX1-mQoznAWJ",
        "outputId": "7b4155de-9bca-4985-8d92-0ee22843f26d"
      },
      "execution_count": 6,
      "outputs": [
        {
          "output_type": "execute_result",
          "data": {
            "text/plain": [
              "((48000, 28, 28), (12000, 28, 28), (48000,), (12000,))"
            ]
          },
          "metadata": {},
          "execution_count": 6
        }
      ]
    },
    {
      "cell_type": "markdown",
      "source": [
        "### 정규화\n",
        "\n",
        "- 이미지에서는 스탠다드 정규화보다 MinMax정규화를 주로 사용함."
      ],
      "metadata": {
        "id": "gQeDJliQn_9g"
      }
    },
    {
      "cell_type": "code",
      "source": [
        "X_train_s = X_train.astype('float32')/255. #.을 붙여서 다시 float형태로 바꿈\n",
        "X_val_s = X_val.astype('float32')/255."
      ],
      "metadata": {
        "id": "ozm1hR5GnKca"
      },
      "execution_count": 7,
      "outputs": []
    },
    {
      "cell_type": "code",
      "source": [
        "np.max(X_train_s) , np.min(X_val_s)"
      ],
      "metadata": {
        "colab": {
          "base_uri": "https://localhost:8080/"
        },
        "id": "1tRzhgNMo2bR",
        "outputId": "b1a39319-6127-4f58-da4c-245e84db4233"
      },
      "execution_count": 8,
      "outputs": [
        {
          "output_type": "execute_result",
          "data": {
            "text/plain": [
              "(1.0, 0.0)"
            ]
          },
          "metadata": {},
          "execution_count": 8
        }
      ]
    },
    {
      "cell_type": "markdown",
      "source": [
        "### 레이블(타깃값) one-hot인코딩"
      ],
      "metadata": {
        "id": "2Ee0pJ3eo_B8"
      }
    },
    {
      "cell_type": "code",
      "source": [
        "from keras.utils import to_categorical\n",
        "\n",
        "y_train_o = to_categorical(y_train)\n",
        "y_val_o = to_categorical(y_val)\n",
        "\n",
        "y_train_o[:5]"
      ],
      "metadata": {
        "colab": {
          "base_uri": "https://localhost:8080/"
        },
        "id": "6fzUNZF6pFM9",
        "outputId": "e662a97c-0729-4200-f32b-a220ed179410"
      },
      "execution_count": 9,
      "outputs": [
        {
          "output_type": "execute_result",
          "data": {
            "text/plain": [
              "array([[0., 0., 0., 0., 0., 1., 0., 0., 0., 0.],\n",
              "       [1., 0., 0., 0., 0., 0., 0., 0., 0., 0.],\n",
              "       [0., 1., 0., 0., 0., 0., 0., 0., 0., 0.],\n",
              "       [0., 0., 0., 0., 0., 0., 1., 0., 0., 0.],\n",
              "       [0., 1., 0., 0., 0., 0., 0., 0., 0., 0.]], dtype=float32)"
            ]
          },
          "metadata": {},
          "execution_count": 9
        }
      ]
    },
    {
      "cell_type": "markdown",
      "source": [
        "### 데이터 직렬화\n",
        "- Flatten"
      ],
      "metadata": {
        "id": "SFcbYB34qL6m"
      }
    },
    {
      "cell_type": "code",
      "source": [
        "X_train_s = X_train_s.reshape(-1,28*28)\n",
        "X_val_s = X_val_s.reshape(-1,28*28)"
      ],
      "metadata": {
        "id": "SnnuvQxtqPov"
      },
      "execution_count": 10,
      "outputs": []
    },
    {
      "cell_type": "markdown",
      "source": [
        "## 2. 모델 만들기"
      ],
      "metadata": {
        "id": "bTxNmAi4qsM7"
      }
    },
    {
      "cell_type": "code",
      "source": [
        "from keras import layers\n",
        "\n",
        "model = keras.Sequential([\n",
        "    layers.Dense(units = 64,activation = 'relu',input_shape = ((28*28),)),\n",
        "    layers.Dense(units = 32, activation = 'relu'),\n",
        "    layers.Dense(units = 10, activation = 'softmax')\n",
        "])"
      ],
      "metadata": {
        "id": "lLgGRj5QqzaZ"
      },
      "execution_count": 11,
      "outputs": []
    },
    {
      "cell_type": "code",
      "source": [
        "model.summary()"
      ],
      "metadata": {
        "colab": {
          "base_uri": "https://localhost:8080/"
        },
        "id": "8Lec5aUusKLn",
        "outputId": "eb364174-bb1c-4a98-ccd6-0254489aa7f2"
      },
      "execution_count": 12,
      "outputs": [
        {
          "output_type": "stream",
          "name": "stdout",
          "text": [
            "Model: \"sequential\"\n",
            "_________________________________________________________________\n",
            " Layer (type)                Output Shape              Param #   \n",
            "=================================================================\n",
            " dense (Dense)               (None, 64)                50240     \n",
            "                                                                 \n",
            " dense_1 (Dense)             (None, 32)                2080      \n",
            "                                                                 \n",
            " dense_2 (Dense)             (None, 10)                330       \n",
            "                                                                 \n",
            "=================================================================\n",
            "Total params: 52650 (205.66 KB)\n",
            "Trainable params: 52650 (205.66 KB)\n",
            "Non-trainable params: 0 (0.00 Byte)\n",
            "_________________________________________________________________\n"
          ]
        }
      ]
    },
    {
      "cell_type": "code",
      "source": [
        "model.compile(\n",
        "    loss='categorical_crossentropy',\n",
        "    optimizer='adam',\n",
        "    metrics = ['accuracy']\n",
        ")"
      ],
      "metadata": {
        "id": "iMtq-xCmwOWX"
      },
      "execution_count": 13,
      "outputs": []
    },
    {
      "cell_type": "code",
      "source": [
        "EPOCHS = 10\n",
        "BATCH_SIZE = 64\n",
        "\n",
        "history = model.fit(\n",
        "    X_train_s, y_train_o,\n",
        "    batch_size =BATCH_SIZE,\n",
        "    epochs = EPOCHS,\n",
        "    validation_data = (X_val_s,y_val_o),\n",
        "    verbose =1\n",
        ")\n",
        "\n"
      ],
      "metadata": {
        "colab": {
          "base_uri": "https://localhost:8080/"
        },
        "id": "dUPFfqDGvSFS",
        "outputId": "f7beaff2-4178-46cf-9be5-0d9df9e7907f"
      },
      "execution_count": 14,
      "outputs": [
        {
          "output_type": "stream",
          "name": "stdout",
          "text": [
            "Epoch 1/10\n",
            "750/750 [==============================] - 8s 9ms/step - loss: 0.3899 - accuracy: 0.8924 - val_loss: 0.2240 - val_accuracy: 0.9349\n",
            "Epoch 2/10\n",
            "750/750 [==============================] - 5s 7ms/step - loss: 0.1743 - accuracy: 0.9491 - val_loss: 0.1533 - val_accuracy: 0.9546\n",
            "Epoch 3/10\n",
            "750/750 [==============================] - 5s 6ms/step - loss: 0.1300 - accuracy: 0.9616 - val_loss: 0.1316 - val_accuracy: 0.9613\n",
            "Epoch 4/10\n",
            "750/750 [==============================] - 5s 7ms/step - loss: 0.1056 - accuracy: 0.9687 - val_loss: 0.1166 - val_accuracy: 0.9649\n",
            "Epoch 5/10\n",
            "750/750 [==============================] - 3s 4ms/step - loss: 0.0886 - accuracy: 0.9730 - val_loss: 0.1203 - val_accuracy: 0.9624\n",
            "Epoch 6/10\n",
            "750/750 [==============================] - 5s 7ms/step - loss: 0.0753 - accuracy: 0.9767 - val_loss: 0.1035 - val_accuracy: 0.9684\n",
            "Epoch 7/10\n",
            "750/750 [==============================] - 6s 8ms/step - loss: 0.0635 - accuracy: 0.9805 - val_loss: 0.1066 - val_accuracy: 0.9668\n",
            "Epoch 8/10\n",
            "750/750 [==============================] - 5s 7ms/step - loss: 0.0562 - accuracy: 0.9828 - val_loss: 0.0957 - val_accuracy: 0.9716\n",
            "Epoch 9/10\n",
            "750/750 [==============================] - 5s 6ms/step - loss: 0.0478 - accuracy: 0.9851 - val_loss: 0.1044 - val_accuracy: 0.9715\n",
            "Epoch 10/10\n",
            "750/750 [==============================] - 7s 10ms/step - loss: 0.0428 - accuracy: 0.9868 - val_loss: 0.1045 - val_accuracy: 0.9711\n"
          ]
        }
      ]
    },
    {
      "cell_type": "code",
      "source": [
        "def plot_history(history):\n",
        "    hist = pd.DataFrame(history.history)\n",
        "    hist['epoch'] = history.epoch\n",
        "\n",
        "    plt.figure(figsize=(16, 8))\n",
        "    plt.subplot(1,2,1)\n",
        "    plt.xlabel('epoch')\n",
        "    plt.ylabel('loss')\n",
        "    plt.plot(hist['epoch'], hist['loss'], label='train loss')\n",
        "    plt.plot(hist['epoch'], hist['val_loss'], label='val loss')\n",
        "    plt.legend()\n",
        "\n",
        "    plt.subplot(1,2,2)\n",
        "    plt.xlabel('epoch')\n",
        "    plt.ylabel('accuracy')\n",
        "    plt.plot(hist['epoch'], hist['accuracy'], label='train accuracy')\n",
        "    plt.plot(hist['epoch'], hist['val_accuracy'], label='val accuracy')\n",
        "    plt.legend()\n",
        "    plt.show()\n",
        "\n",
        "plot_history(history)"
      ],
      "metadata": {
        "colab": {
          "base_uri": "https://localhost:8080/",
          "height": 663
        },
        "id": "BvF7SpHgwGmj",
        "outputId": "b693bda0-d696-4fe3-9b42-829586f14142"
      },
      "execution_count": 15,
      "outputs": [
        {
          "output_type": "display_data",
          "data": {
            "text/plain": [
              "<Figure size 1600x800 with 2 Axes>"
            ],
            "image/png": "[encoded data removed]"
          },
          "metadata": {}
        }
      ]
    },
    {
      "cell_type": "markdown",
      "source": [
        "## 4. 평가\n",
        "\n",
        "- 테스트 데이터 정리\n",
        "  - 정규화\n",
        "  - 차원 변경\n",
        "  - 레이블 원핫 인코딩\n"
      ],
      "metadata": {
        "id": "-tK1bmvywbaj"
      }
    },
    {
      "cell_type": "code",
      "source": [
        "X_test_s = X_test.astype('float32')/255.\n",
        "X_test_s = X_test_s.reshape(-1,28*28)\n",
        "\n",
        "y_test_o = to_categorical(y_test)"
      ],
      "metadata": {
        "id": "J_fsWjqQwmZo"
      },
      "execution_count": 16,
      "outputs": []
    },
    {
      "cell_type": "code",
      "source": [
        "y_pred = model.predict(X_test_s)\n",
        "y_pred[:5]"
      ],
      "metadata": {
        "colab": {
          "base_uri": "https://localhost:8080/"
        },
        "id": "S0rLiLRmw_PV",
        "outputId": "bce1f04b-e1b3-4abd-c149-bcecbe58ee6e"
      },
      "execution_count": 17,
      "outputs": [
        {
          "output_type": "stream",
          "name": "stdout",
          "text": [
            "313/313 [==============================] - 1s 4ms/step\n"
          ]
        },
        {
          "output_type": "execute_result",
          "data": {
            "text/plain": [
              "array([[3.3533820e-07, 2.1313764e-09, 1.8556517e-06, 1.7602398e-06,\n",
              "        1.3379593e-10, 2.1014978e-08, 2.2949052e-12, 9.9999005e-01,\n",
              "        7.4730856e-08, 5.8796550e-06],\n",
              "       [5.9096045e-08, 3.9909835e-05, 9.9995834e-01, 1.2146005e-06,\n",
              "        3.6438790e-12, 1.5337587e-11, 4.0628962e-07, 7.8558673e-11,\n",
              "        1.2773137e-07, 2.0726078e-19],\n",
              "       [1.3018446e-06, 9.9626178e-01, 4.9416011e-04, 2.9720890e-05,\n",
              "        5.9025620e-06, 1.0564485e-05, 5.4284645e-04, 2.2822660e-03,\n",
              "        3.6467274e-04, 6.7968531e-06],\n",
              "       [9.9996072e-01, 1.1231044e-09, 3.0692448e-05, 5.2031635e-10,\n",
              "        2.0074623e-08, 2.9102033e-11, 8.5677093e-06, 2.2067306e-08,\n",
              "        2.6298088e-13, 2.9292729e-10],\n",
              "       [4.3768917e-08, 1.1380945e-09, 5.8546329e-10, 6.0769112e-11,\n",
              "        9.9975753e-01, 2.1008820e-07, 2.1409322e-08, 2.2356417e-05,\n",
              "        6.2497136e-09, 2.1982532e-04]], dtype=float32)"
            ]
          },
          "metadata": {},
          "execution_count": 17
        }
      ]
    },
    {
      "cell_type": "code",
      "source": [
        "y_pred = np.argmax(y_pred,axis = 1)\n",
        "y_pred[:20]"
      ],
      "metadata": {
        "colab": {
          "base_uri": "https://localhost:8080/"
        },
        "id": "4n4T_YqyxbyR",
        "outputId": "673003d9-d99a-4b41-a525-12a54ac80125"
      },
      "execution_count": 18,
      "outputs": [
        {
          "output_type": "execute_result",
          "data": {
            "text/plain": [
              "array([7, 2, 1, 0, 4, 1, 4, 9, 5, 9, 0, 6, 9, 0, 1, 5, 9, 7, 3, 4])"
            ]
          },
          "metadata": {},
          "execution_count": 18
        }
      ]
    },
    {
      "cell_type": "code",
      "source": [
        "pd.Series(y_test)[:20]"
      ],
      "metadata": {
        "colab": {
          "base_uri": "https://localhost:8080/"
        },
        "id": "ZyWsbaOPxVpQ",
        "outputId": "2462eac4-f3d6-41e1-f9f3-56780fc452a6"
      },
      "execution_count": 19,
      "outputs": [
        {
          "output_type": "execute_result",
          "data": {
            "text/plain": [
              "0     7\n",
              "1     2\n",
              "2     1\n",
              "3     0\n",
              "4     4\n",
              "5     1\n",
              "6     4\n",
              "7     9\n",
              "8     5\n",
              "9     9\n",
              "10    0\n",
              "11    6\n",
              "12    9\n",
              "13    0\n",
              "14    1\n",
              "15    5\n",
              "16    9\n",
              "17    7\n",
              "18    3\n",
              "19    4\n",
              "dtype: uint8"
            ]
          },
          "metadata": {},
          "execution_count": 19
        }
      ]
    },
    {
      "cell_type": "code",
      "source": [
        "from sklearn.metrics import accuracy_score, recall_score, precision_score,f1_score\n",
        "\n",
        "def print_metrics(y_test,y_pred):\n",
        "  acc = accuracy_score(y_test,y_pred) # 정답값, 예측\n",
        "  print(f'optimal_accuracy: {acc}')\n",
        "  acc = recall_score(y_test,y_pred,average='macro') # 정답값, 예측\n",
        "  print(f'recall_score: {acc}')\n",
        "  acc = precision_score(y_test,y_pred,average='macro') # 정답값, 예측\n",
        "  print(f'precision_score: {acc}')\n",
        "  acc = f1_score(y_test,y_pred,average='macro') # 정답값, 예측\n",
        "  print(f'precision_score: {acc}')\n",
        "\n",
        "print_metrics(y_test,y_pred)"
      ],
      "metadata": {
        "colab": {
          "base_uri": "https://localhost:8080/"
        },
        "id": "ic8euRodxvHB",
        "outputId": "f184ac58-6274-4d31-88e8-c35a2ac2057b"
      },
      "execution_count": 20,
      "outputs": [
        {
          "output_type": "stream",
          "name": "stdout",
          "text": [
            "optimal_accuracy: 0.9718\n",
            "recall_score: 0.9714991693853164\n",
            "precision_score: 0.9719386994000635\n",
            "precision_score: 0.9715957535555916\n"
          ]
        }
      ]
    },
    {
      "cell_type": "code",
      "source": [
        "wrong_idx = np.where(y_pred != y_test)[0]\n",
        "rdm_wrong_idx = np.random.choice(wrong_idx,size = 9)\n",
        "rdm_wrong_idx"
      ],
      "metadata": {
        "colab": {
          "base_uri": "https://localhost:8080/"
        },
        "id": "M25FvIqUx5CV",
        "outputId": "009e66f7-56fe-4ce1-caaf-1a7711de2cf6"
      },
      "execution_count": 21,
      "outputs": [
        {
          "output_type": "execute_result",
          "data": {
            "text/plain": [
              "array([2333, 2769, 6783, 3902, 6783, 4823, 5457, 3821, 8272])"
            ]
          },
          "metadata": {},
          "execution_count": 21
        }
      ]
    },
    {
      "cell_type": "code",
      "source": [
        "plt.figure(figsize = (8,8))\n",
        "for i, idx in enumerate(rdm_wrong_idx):\n",
        "  plt.subplot(3,3,1+i)\n",
        "  plt.imshow(X_test[idx],cmap = 'gray') #colormap\n",
        "  plt.axis('off')\n",
        "  plt.title(f'{y_test[idx]} (pred ={y_pred[idx]})')\n",
        "plt.show()"
      ],
      "metadata": {
        "colab": {
          "base_uri": "https://localhost:8080/",
          "height": 675
        },
        "id": "X_WClafYyGqq",
        "outputId": "96439a45-3f54-4f69-f465-824debeaabe6"
      },
      "execution_count": 22,
      "outputs": [
        {
          "output_type": "display_data",
          "data": {
            "text/plain": [
              "<Figure size 800x800 with 9 Axes>"
            ],
            "image/png": "[encoded data removed]"
          },
          "metadata": {}
        }
      ]
    },
    {
      "cell_type": "markdown",
      "source": [
        "## 6. 모델 저장\n",
        "- 케라스 모델형식으로 저장"
      ],
      "metadata": {
        "id": "JF2YU7przVsm"
      }
    },
    {
      "cell_type": "code",
      "source": [
        "model.save('nn-mnist-28x28-97.keras')"
      ],
      "metadata": {
        "id": "7kTnSjJpzUWF"
      },
      "execution_count": 23,
      "outputs": []
    },
    {
      "cell_type": "markdown",
      "source": [
        "- 텐서플로우 모델형식으로 저장"
      ],
      "metadata": {
        "id": "s8PnbrtS0R7Y"
      }
    },
    {
      "cell_type": "code",
      "source": [
        "model.save('my-model')"
      ],
      "metadata": {
        "id": "lR_56p9Jz1st"
      },
      "execution_count": 24,
      "outputs": []
    },
    {
      "cell_type": "markdown",
      "source": [
        "## 모델 로딩"
      ],
      "metadata": {
        "id": "sWBiopcF0V_E"
      }
    },
    {
      "cell_type": "code",
      "source": [
        "loaded_model = keras.models.load_model('nn-mnist-28x28-97.keras')\n",
        "loaded_model.summary()"
      ],
      "metadata": {
        "colab": {
          "base_uri": "https://localhost:8080/"
        },
        "id": "FrHpJFfS0Vbv",
        "outputId": "f5486e44-1bc7-4f7c-ff91-bef7ba550225"
      },
      "execution_count": 25,
      "outputs": [
        {
          "output_type": "stream",
          "name": "stdout",
          "text": [
            "Model: \"sequential\"\n",
            "_________________________________________________________________\n",
            " Layer (type)                Output Shape              Param #   \n",
            "=================================================================\n",
            " dense (Dense)               (None, 64)                50240     \n",
            "                                                                 \n",
            " dense_1 (Dense)             (None, 32)                2080      \n",
            "                                                                 \n",
            " dense_2 (Dense)             (None, 10)                330       \n",
            "                                                                 \n",
            "=================================================================\n",
            "Total params: 52650 (205.66 KB)\n",
            "Trainable params: 52650 (205.66 KB)\n",
            "Non-trainable params: 0 (0.00 Byte)\n",
            "_________________________________________________________________\n"
          ]
        }
      ]
    }
  ]
}